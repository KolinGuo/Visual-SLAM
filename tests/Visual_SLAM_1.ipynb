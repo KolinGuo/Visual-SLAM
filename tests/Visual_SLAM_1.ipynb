{
  "nbformat": 4,
  "nbformat_minor": 0,
  "metadata": {
    "colab": {
      "name": "Visual_SLAM_1.ipynb",
      "version": "0.3.2",
      "provenance": [],
      "collapsed_sections": []
    },
    "kernelspec": {
      "name": "python3",
      "display_name": "Python 3"
    }
  },
  "cells": [
    {
      "metadata": {
        "id": "pu4uceVkN_4T",
        "colab_type": "code",
        "colab": {
          "base_uri": "https://localhost:8080/",
          "height": 135
        },
        "outputId": "0bc9daf7-d5e6-48a1-9463-e4bef5f3ad64"
      },
      "cell_type": "code",
      "source": [
        "class KeyFrame:\n",
        "  \n",
        "def CreateNewKeyFrame():\n",
        "  if mylocalMapper.SetNotStop == True:\n",
        "    return\n",
        "  pKF = KeyFrame(mCurrentFrame,mpMap,mpKeyFrameDB)\n",
        "  mpReferenceKF = pKF\n",
        "  mCurrentFrame.mpReferenceKF = pKF\n",
        "  \n",
        "  if mSensor!= MONOCULAR:\n",
        "    mCurrentFrame.updatePoseMatrices()\n",
        "    # We sort points by the measured depth by the stereo/RGBD sensor.\n",
        "    # We create all those MapPoints whose depth < mThDepth.\n",
        "    # If there are less than 100 close points we create the 100 closest.\n",
        "    vDepthIdx = []\n",
        "    vDepthIdx.reserve(mCurrentFrame.N)#\n",
        "    for i in range(mCurrentFrame.N):\n",
        "      z = mCurrentFrame.mvDepth[i]\n",
        "      if z>0:\n",
        "        \n",
        "    \n",
        "    if vDepthIdx.empty()==0:\n",
        "      sort(vDepthIdx)\n",
        "      nPoints = 0\n",
        "      for j in range(vDepthIdx.size()):\n",
        "        i = vDepthIdx[j].second\n",
        "        bCreateNew = False\n",
        "        pMP = mCurrentFrame.mvpMapPoints[i]\n",
        "        if pMP==0:\n",
        "          bCreateNew = True\n",
        "        else if pMP.Obserbations()<1:\n",
        "          bCreateNew = True\n",
        "          mCurrentFrame.mvpMapPoints[i] = MapPoint##\n",
        "        if bCreateNew:\n",
        "          #cv::Mat x3D = mCurrentFrame.UnprojectStereo(i)\n",
        "          pNewMP = MapPoint(x3D,pKF,mpMap)\n",
        "          pNewMP.AddObservation(pKF,i)\n",
        "          pKF.AddMapPoint(pNewMP,i)\n",
        "          pNewMP.ComputeDistinctiveDescriptors()\n",
        "          pNewMP.UpdateNormalAndDepth()\n",
        "          mpMap.AddMapPoint(pNewMP)\n",
        "          \n",
        "          mCurrentFrame.mvpMapPoints[i] = pNewMP\n",
        "          nPoints++\n",
        "        else:\n",
        "          nPoints++\n",
        "        \n",
        "        if vDepthIdx[j].first>mThDepth and nPoints>100:\n",
        "          break\n",
        "    \n",
        "    mpLocalMapper.InsertKeyFrame(pKF)\n",
        "    mpLocalMapper.SetNotStop(false)\n",
        "    mnLastKeyFrameId = mCurrentFrame.mnId\n",
        "    mpLastKeyFrame = pKF\n",
        "\n",
        "       "
      ],
      "execution_count": 2,
      "outputs": [
        {
          "output_type": "error",
          "ename": "IndentationError",
          "evalue": "ignored",
          "traceback": [
            "\u001b[0;36m  File \u001b[0;32m\"<ipython-input-2-60791faddf3c>\"\u001b[0;36m, line \u001b[0;32m3\u001b[0m\n\u001b[0;31m    def CreateNewKeyFrame():\u001b[0m\n\u001b[0m      ^\u001b[0m\n\u001b[0;31mIndentationError\u001b[0m\u001b[0;31m:\u001b[0m expected an indented block\n"
          ]
        }
      ]
    },
    {
      "metadata": {
        "id": "kqs3Q9ZDr2yi",
        "colab_type": "code",
        "colab": {}
      },
      "cell_type": "code",
      "source": [
        ""
      ],
      "execution_count": 0,
      "outputs": []
    },
    {
      "metadata": {
        "id": "eqxCjgE5r2H5",
        "colab_type": "code",
        "colab": {}
      },
      "cell_type": "code",
      "source": [
        ""
      ],
      "execution_count": 0,
      "outputs": []
    }
  ]
}